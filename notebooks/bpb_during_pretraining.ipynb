{
 "cells": [
  {
   "cell_type": "code",
   "execution_count": 1,
   "id": "9d6f38ee-fe4e-4982-8921-2c36dfb49e26",
   "metadata": {},
   "outputs": [
    {
     "name": "stdout",
     "output_type": "stream",
     "text": [
      "/mmfs1/gscratch/xlab/alisaliu/OLMo\n"
     ]
    },
    {
     "name": "stderr",
     "output_type": "stream",
     "text": [
      "/gscratch/cse/alisaliu/miniconda3/envs/playground/lib/python3.10/site-packages/IPython/core/magics/osm.py:417: UserWarning: using dhist requires you to install the `pickleshare` library.\n",
      "  self.shell.db['dhist'] = compress_dhist(dhist)[-100:]\n"
     ]
    }
   ],
   "source": [
    "%cd \"/gscratch/xlab/alisaliu/OLMo\"\n",
    "import olmo"
   ]
  },
  {
   "cell_type": "code",
   "execution_count": null,
   "id": "aaa9c297-2fa0-4197-a50d-54ae9cbbfbb1",
   "metadata": {},
   "outputs": [
    {
     "name": "stderr",
     "output_type": "stream",
     "text": [
      "/gscratch/cse/alisaliu/miniconda3/envs/playground/lib/python3.10/site-packages/IPython/core/magics/osm.py:417: UserWarning: using dhist requires you to install the `pickleshare` library.\n",
      "  self.shell.db['dhist'] = compress_dhist(dhist)[-100:]\n"
     ]
    },
    {
     "name": "stdout",
     "output_type": "stream",
     "text": [
      "/mmfs1/gscratch/xlab/alisaliu/pretokenization\n"
     ]
    }
   ],
   "source": [
    "%cd \"/gscratch/xlab/alisaliu/superbpe\"\n",
    "\n",
    "import io\n",
    "import time\n",
    "from pathlib import Path\n",
    "import seaborn as sns\n",
    "import matplotlib.pyplot as plt\n",
    "import numpy as np\n",
    "import simdjson as json\n",
    "import wandb\n",
    "import zstandard as zstd\n",
    "from scipy.signal import lfilter, lfiltic\n",
    "import tempfile\n",
    "import yaml\n",
    "import plot_utils\n",
    "from constants import MODEL_TO_COLOR\n",
    "\n",
    "api = wandb.Api(timeout=5*60)"
   ]
  },
  {
   "cell_type": "code",
   "execution_count": 3,
   "id": "8115c0c8-9321-4d74-8b40-1e09f293dbfd",
   "metadata": {},
   "outputs": [],
   "source": [
    "STEP_KEY = \"_step\"\n",
    "LOSS_KEY = \"train/CrossEntropyLoss\"\n",
    "FLOPS_KEY = \"throughput/total_training_Gflops\""
   ]
  },
  {
   "cell_type": "code",
   "execution_count": null,
   "id": "90f68791-a3bf-481d-aff3-395678228bc7",
   "metadata": {},
   "outputs": [],
   "source": [
    "RUNS = {\n",
    "    \"OLMo2-7B-pt200k\": {\n",
    "        \"wandb_ids\": [\"AQFCECqu\", \"TTnazKRN\"],\n",
    "        \"bytes_per_token\": 4.458679110036542,\n",
    "        \"label\": \"BPE 8B\",\n",
    "    },\n",
    "    \"OLMo2-7B-pts200k-t80k-ctx2756-colon\": {\n",
    "        \"wandb_ids\": [\"nEdBisVW\", \"lrYEjoTL\"],\n",
    "        \"bytes_per_token\": 6.628467570656108,\n",
    "        \"label\": \"SuperBPE 8B ($t=$80K)\",\n",
    "    },\n",
    "    \"OLMo2-7B-pts200k-t160k-ctx2884-colon\": {\n",
    "        \"wandb_ids\": [\"UniiDEQI\"],\n",
    "        \"bytes_per_token\": 6.332789818108284,\n",
    "        \"label\": \"SuperBPE 8B ($t=$160K)\",\n",
    "    },\n",
    "    \"OLMo2-7B-pts200k-t180k-ctx3000-colon\": {\n",
    "        \"wandb_ids\": [\"UUgqEftb\", \"dtIbsnTR\"],\n",
    "        \"bytes_per_token\": 6.088411244307862,\n",
    "        \"label\": \"SuperBPE 8B ($t=$180K)\",\n",
    "    },\n",
    "    \"OLMo2-11B-pts200k-t180k-ctx3000-colon\": {\n",
    "        \"wandb_ids\": [\"mapzLrsG\"],\n",
    "        \"bytes_per_token\": 6.088411244307862,\n",
    "        \"label\": \"SuperBPE 11B ($t=$180K)\",\n",
    "    }\n",
    "}"
   ]
  },
  {
   "cell_type": "code",
   "execution_count": 5,
   "id": "2a1e4690-e509-466a-89f8-314642aa5549",
   "metadata": {},
   "outputs": [],
   "source": [
    "CONFIG_CACHE = {}\n",
    "\n",
    "with tempfile.TemporaryFile() as f:\n",
    "    f.write(b\"Hello, world!\")\n",
    "    f.seek(0)\n",
    "    data = f.read()\n",
    "\n",
    "\n",
    "def build_model_from_config(config):\n",
    "    with tempfile.NamedTemporaryFile(\"w+\") as f:\n",
    "        yaml.dump(config[\"model\"], f)\n",
    "        model_config = olmo.config.ModelConfig.load(f.name)\n",
    "    model_config.init_device = \"meta\"\n",
    "    model = olmo.model.OLMo(model_config)\n",
    "    return model\n",
    "\n",
    "\n",
    "def load_config(name):\n",
    "    rid = next(iter(RUNS[name][\"wandb_ids\"]))\n",
    "    rpath = f\"sewoonglab/pretokenization/{rid}\"\n",
    "    if rpath in CONFIG_CACHE:\n",
    "        return CONFIG_CACHE[rpath]\n",
    "\n",
    "    config = api.run(rpath).config\n",
    "    CONFIG_CACHE[name] = config\n",
    "    return config\n",
    "\n",
    "\n",
    "def get_train_flops_per_step(name):\n",
    "    config = load_config(name)\n",
    "    model = build_model_from_config(config)\n",
    "    result = config[\"global_train_batch_size\"] * (\n",
    "        config[\"model\"][\"max_sequence_length\"]\n",
    "        * (model.num_fwd_flops + model.num_bck_flops)\n",
    "    )\n",
    "    return float(result)\n",
    "\n",
    "\n",
    "def get_num_params(name, **kwargs):\n",
    "    config = load_config(name)\n",
    "    model = build_model_from_config(config)\n",
    "    return model.num_params(**kwargs)\n",
    "\n",
    "\n",
    "def get_total_train_tokens(name):\n",
    "    config = load_config(name)\n",
    "    return float(\n",
    "        int(config[\"max_duration\"]) *\n",
    "        config[\"model\"][\"max_sequence_length\"] *\n",
    "        config[\"global_train_batch_size\"]\n",
    "    )"
   ]
  },
  {
   "cell_type": "code",
   "execution_count": 6,
   "id": "3d9c82d7-aae6-40c1-9b0e-efc307722a89",
   "metadata": {},
   "outputs": [],
   "source": [
    "def ewma_linear_filter(array, window):\n",
    "    alpha = 2 /(window + 1)\n",
    "    b = [alpha]\n",
    "    a = [1, alpha-1]\n",
    "    zi = lfiltic(b, a, array[0:1], [0])\n",
    "    return lfilter(b, a, array, zi=zi)[0]"
   ]
  },
  {
   "cell_type": "code",
   "execution_count": 7,
   "id": "06664a56-6670-47fa-82be-b22c68572c57",
   "metadata": {},
   "outputs": [],
   "source": [
    "def read_jsonl_zstd(file_path):\n",
    "    dctx = zstd.ZstdDecompressor()\n",
    "    with open(file_path, 'rb') as compressed_file:\n",
    "        with dctx.stream_reader(compressed_file) as decompressed_stream:\n",
    "            text_stream = io.TextIOWrapper(decompressed_stream, encoding='utf-8')\n",
    "            parser = json.Parser()\n",
    "            for line in text_stream:\n",
    "                if line.strip():\n",
    "                    yield parser.parse(line).as_dict()\n",
    "\n",
    "\n",
    "def write_jsonl_zstd(file_path, json_objects):\n",
    "    cctx = zstd.ZstdCompressor()\n",
    "    with open(file_path, 'wb') as compressed_file:\n",
    "        with cctx.stream_writer(compressed_file) as compressed_stream:\n",
    "            for json_object in json_objects:\n",
    "                json_line = json.dumps(json_object)\n",
    "                compressed_stream.write((json_line + '\\n').encode('utf-8'))\n"
   ]
  },
  {
   "cell_type": "code",
   "execution_count": 8,
   "id": "1e60551f-c9d9-42ba-b41d-aaf6470735ae",
   "metadata": {},
   "outputs": [],
   "source": [
    "WANDB_MEM_CACHE = {}"
   ]
  },
  {
   "cell_type": "code",
   "execution_count": 9,
   "id": "55d74e1c-693e-462f-a2b4-fbce5d89f35e",
   "metadata": {},
   "outputs": [],
   "source": [
    "WANDB_CACHE_PATH = Path(\"data/wandb_cache\")\n",
    "WANDB_MEM_CACHE_EXPIRE_SECS = 60*15  # in seconds\n",
    "\n",
    "def load_history(name, keys=(LOSS_KEY,)):\n",
    "    if \"/\" not in name:\n",
    "        name = f\"sewoonglab/pretokenization/{name}\"\n",
    "\n",
    "    keys = set(keys).union((STEP_KEY,))\n",
    "\n",
    "    cache_key = name.replace(\"/\", \"_\")\n",
    "    cache_file = WANDB_CACHE_PATH / f\"{cache_key}.jsonl.zst\"\n",
    "    cache_meta_file = WANDB_CACHE_PATH / f\"{cache_key}.meta.json\"\n",
    "\n",
    "    history, cached_meta, mem_keys = [], {}, set()\n",
    "\n",
    "    # try to load the memory cache\n",
    "    if cache_key in WANDB_MEM_CACHE:\n",
    "        cached_meta, mem_keys, history = WANDB_MEM_CACHE[cache_key]\n",
    "        if not mem_keys.issuperset(keys):\n",
    "            history = []\n",
    "\n",
    "    # if the memory cache didn't exist or was invalid, load the disk cache\n",
    "    if not history:\n",
    "        try:\n",
    "            with open(cache_meta_file) as fmeta:\n",
    "                print(f\"run {name}: reading cache from disk\")\n",
    "                cached_meta = json.load(fmeta)\n",
    "            history = list(read_jsonl_zstd(cache_file))\n",
    "        except FileNotFoundError:\n",
    "            history, last_step = [], -1\n",
    "\n",
    "    # if cache is fresh enough, skip update\n",
    "    last_step = cached_meta.get(\"last_step\", -1)\n",
    "    if cached_meta.get(\"cache_time\", 0) + WANDB_MEM_CACHE_EXPIRE_SECS >= time.time():\n",
    "        return history\n",
    "\n",
    "    # fetch new rows\n",
    "    run = api.run(name)\n",
    "    new_history = list(run.scan_history(min_step=last_step + 1))\n",
    "    history.extend(new_history)\n",
    "    new_meta = {\"last_step\": history[-1][STEP_KEY], \"cache_time\": time.time()}\n",
    "\n",
    "    # maybe write out new cache file\n",
    "    if new_history:\n",
    "        print(f\"run {name}: downloaded {len(new_history)} new rows\")\n",
    "\n",
    "        write_jsonl_zstd(cache_file, history)\n",
    "        with open(cache_meta_file, \"w\") as fmeta:\n",
    "            json.dump(new_meta, fmeta)\n",
    "\n",
    "    # maybe write to memory cache\n",
    "    new_mem_keys = mem_keys.union(keys)\n",
    "    WANDB_MEM_CACHE[cache_key] = (\n",
    "        new_meta,\n",
    "        new_mem_keys,\n",
    "        [{k: entry[k] for k in new_mem_keys if k in entry} for entry in history],\n",
    "    )\n",
    "\n",
    "    filtered_history = [{k: entry[k] for k in keys if k in entry} for entry in history]\n",
    "    return filtered_history\n",
    "\n",
    "def load_run(run_name, keys=(LOSS_KEY,)):\n",
    "    histories = {k: {} for k in keys}\n",
    "    for rid in RUNS[run_name]['wandb_ids']:\n",
    "        name = f\"sewoonglab/pretokenization/{rid}\"\n",
    "        history = load_history(name, keys)\n",
    "        for entry in history:\n",
    "            for key in keys:\n",
    "                if value := entry.get(key):\n",
    "                    histories[key][entry[STEP_KEY]] = value\n",
    "\n",
    "    steps = np.array(\n",
    "        sorted(set.intersection(*(set(h.keys()) for h in histories.values())))\n",
    "    )\n",
    "    result = {\n",
    "        key: np.array([h[step] for step in steps]) for key, h in histories.items()\n",
    "    }\n",
    "    result[STEP_KEY] = steps\n",
    "    return result\n",
    "\n",
    "\n",
    "def get_bpb(name):\n",
    "    data = load_run(name, keys=(LOSS_KEY, STEP_KEY))\n",
    "    loss = data[LOSS_KEY]\n",
    "    bpb = loss * np.log2(np.e) / RUNS[name]['bytes_per_token']\n",
    "    return bpb"
   ]
  },
  {
   "cell_type": "code",
   "execution_count": 10,
   "id": "e0fb729d-a405-4804-926c-1cf003df995b",
   "metadata": {},
   "outputs": [
    {
     "name": "stdout",
     "output_type": "stream",
     "text": [
      "run sewoonglab/pretokenization/AQFCECqu: reading cache from disk\n",
      "run sewoonglab/pretokenization/TTnazKRN: reading cache from disk\n",
      "OLMo2-7B-pt200k: 0.7462913211346834\n",
      "run sewoonglab/pretokenization/UUgqEftb: reading cache from disk\n",
      "run sewoonglab/pretokenization/dtIbsnTR: reading cache from disk\n",
      "OLMo2-7B-pts200k-t180k-ctx3000-colon: 0.7480275268736571\n",
      "run sewoonglab/pretokenization/mapzLrsG: reading cache from disk\n",
      "OLMo2-11B-pts200k-t180k-ctx3000-colon: 0.7449217824847633\n"
     ]
    },
    {
     "data": {
      "image/png": "[encoded data removed]",
      "text/plain": [
       "<Figure size 640x480 with 1 Axes>"
      ]
     },
     "metadata": {},
     "output_type": "display_data"
    }
   ],
   "source": [
    "fig, ax = plt.subplots()\n",
    "\n",
    "all_bpbs = {}\n",
    "for i, model_name in enumerate([\n",
    "    \"OLMo2-7B-pt200k\",\n",
    "    \"OLMo2-7B-pts200k-t180k-ctx3000-colon\",\n",
    "    \"OLMo2-11B-pts200k-t180k-ctx3000-colon\"\n",
    "]):\n",
    "    bpbs = get_bpb(model_name)\n",
    "    all_bpbs[model_name] = bpbs\n",
    "    \n",
    "    smoothed_bpbs = ewma_linear_filter(bpbs, 100)\n",
    "    print(f\"{model_name}: {smoothed_bpbs[-1]}\")\n",
    "    # print(f\"{model_name}: {np.mean(bpbs[-100:])}\")\n",
    "    sns.lineplot(\n",
    "        x=load_run(model_name, keys=(LOSS_KEY, STEP_KEY))[STEP_KEY] * get_train_flops_per_step(model_name),\n",
    "        y=smoothed_bpbs,\n",
    "        label=RUNS[model_name][\"label\"],\n",
    "        ax=ax,\n",
    "        color=MODEL_TO_COLOR[model_name],\n",
    "    )\n",
    "ax.set_xlabel(\"Train FLOPs\")\n",
    "ax.set_ylabel(\"Bits per byte\")\n",
    "\n",
    "plt.legend(fontsize=13)\n",
    "ax.set_ylim(top=1.0, bottom=0.725)\n",
    "plt.tight_layout(pad=0.1)\n",
    "plt.savefig(\"plots/bpb.png\", dpi=300)\n",
    "plt.savefig(\"plots/bpb.pdf\", dpi=300)"
   ]
  },
  {
   "cell_type": "code",
   "execution_count": null,
   "id": "94fbb178-cde0-49cf-aae8-afac34618c9b",
   "metadata": {},
   "outputs": [],
   "source": []
  }
 ],
 "metadata": {
  "kernelspec": {
   "display_name": "Python 3 (ipykernel)",
   "language": "python",
   "name": "python3"
  },
  "language_info": {
   "codemirror_mode": {
    "name": "ipython",
    "version": 3
   },
   "file_extension": ".py",
   "mimetype": "text/x-python",
   "name": "python",
   "nbconvert_exporter": "python",
   "pygments_lexer": "ipython3",
   "version": "3.10.13"
  }
 },
 "nbformat": 4,
 "nbformat_minor": 5
}
